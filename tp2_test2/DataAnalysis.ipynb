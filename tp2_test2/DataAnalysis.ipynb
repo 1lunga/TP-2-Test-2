{
 "cells": [
  {
   "cell_type": "code",
   "execution_count": 14,
   "id": "3a59c0cc-a97c-4a8d-aeb3-9c5b80eb9a71",
   "metadata": {},
   "outputs": [],
   "source": [
    "import pandas as pd\n",
    "import numpy as np\n",
    "import matplotlib.pyplot as plt\n",
    "import seaborn as sns\n",
    "plt.style.use('ggplot')"
   ]
  },
  {
   "cell_type": "code",
   "execution_count": 3,
   "id": "df919f0a-a1eb-4546-a1f7-a4db75c6184e",
   "metadata": {},
   "outputs": [],
   "source": [
    "df = pd.read_csv(\"C:/Users/June Gemini/tp2_test2/Informal settlement data.csv\")"
   ]
  },
  {
   "cell_type": "markdown",
   "id": "3107dbc4-e97f-4b52-a64c-51306767a408",
   "metadata": {},
   "source": [
    "Understand and Clean dataset"
   ]
  },
  {
   "cell_type": "markdown",
   "id": "5e6f5a05-7548-49ec-aeff-150d529d6159",
   "metadata": {},
   "source": [
    "Size"
   ]
  },
  {
   "cell_type": "code",
   "execution_count": 4,
   "id": "33066443-146d-49fb-a940-be2e3ca3134a",
   "metadata": {},
   "outputs": [
    {
     "data": {
      "text/plain": [
       "10188"
      ]
     },
     "execution_count": 4,
     "metadata": {},
     "output_type": "execute_result"
    }
   ],
   "source": [
    "df.size"
   ]
  },
  {
   "cell_type": "markdown",
   "id": "be4f51df-7735-4a68-8e65-e6cf312b37f2",
   "metadata": {},
   "source": [
    "Data types"
   ]
  },
  {
   "cell_type": "code",
   "execution_count": 5,
   "id": "00d99184-cca1-4887-b8ab-46397aa59fc0",
   "metadata": {},
   "outputs": [
    {
     "data": {
      "text/plain": [
       "OBJECTID           int64\n",
       "NAME_OF_SE        object\n",
       "ALT_NAME          object\n",
       "STREETNAME        object\n",
       "WARD_S            object\n",
       "PLANNING_U        object\n",
       "LATITUDE          object\n",
       "LONGITUDE         object\n",
       "REGION            object\n",
       "WATER_SUPP        object\n",
       "SANITATION        object\n",
       "REFUSE            object\n",
       "ELECTRIC_2        object\n",
       "UNIREFCODE        object\n",
       "EST_HHC            int64\n",
       "NUSP_CAT          object\n",
       "Shape__Area      float64\n",
       "Shape__Length    float64\n",
       "dtype: object"
      ]
     },
     "execution_count": 5,
     "metadata": {},
     "output_type": "execute_result"
    }
   ],
   "source": [
    "df.dtypes"
   ]
  },
  {
   "cell_type": "markdown",
   "id": "ae8e977b-20a6-4995-ab2c-2ab1170d99d5",
   "metadata": {},
   "source": [
    "Columns"
   ]
  },
  {
   "cell_type": "code",
   "execution_count": 6,
   "id": "913a0c01-b44d-46d6-bd21-4026f38801ce",
   "metadata": {},
   "outputs": [
    {
     "data": {
      "text/plain": [
       "Index(['OBJECTID', 'NAME_OF_SE', 'ALT_NAME', 'STREETNAME', 'WARD_S',\n",
       "       'PLANNING_U', 'LATITUDE', 'LONGITUDE', 'REGION', 'WATER_SUPP',\n",
       "       'SANITATION', 'REFUSE', 'ELECTRIC_2', 'UNIREFCODE', 'EST_HHC',\n",
       "       'NUSP_CAT', 'Shape__Area', 'Shape__Length'],\n",
       "      dtype='object')"
      ]
     },
     "execution_count": 6,
     "metadata": {},
     "output_type": "execute_result"
    }
   ],
   "source": [
    "df.columns"
   ]
  },
  {
   "cell_type": "markdown",
   "id": "ea5428b9-91a4-41b6-9a5b-0bb3640a5399",
   "metadata": {},
   "source": [
    "Rows"
   ]
  },
  {
   "cell_type": "code",
   "execution_count": 9,
   "id": "61e228ff-e1de-4e6b-b919-ecbc0128449e",
   "metadata": {},
   "outputs": [
    {
     "data": {
      "text/html": [
       "<div>\n",
       "<style scoped>\n",
       "    .dataframe tbody tr th:only-of-type {\n",
       "        vertical-align: middle;\n",
       "    }\n",
       "\n",
       "    .dataframe tbody tr th {\n",
       "        vertical-align: top;\n",
       "    }\n",
       "\n",
       "    .dataframe thead th {\n",
       "        text-align: right;\n",
       "    }\n",
       "</style>\n",
       "<table border=\"1\" class=\"dataframe\">\n",
       "  <thead>\n",
       "    <tr style=\"text-align: right;\">\n",
       "      <th></th>\n",
       "      <th>OBJECTID</th>\n",
       "      <th>NAME_OF_SE</th>\n",
       "      <th>ALT_NAME</th>\n",
       "      <th>STREETNAME</th>\n",
       "      <th>WARD_S</th>\n",
       "      <th>PLANNING_U</th>\n",
       "      <th>LATITUDE</th>\n",
       "      <th>LONGITUDE</th>\n",
       "      <th>REGION</th>\n",
       "      <th>WATER_SUPP</th>\n",
       "      <th>SANITATION</th>\n",
       "      <th>REFUSE</th>\n",
       "      <th>ELECTRIC_2</th>\n",
       "      <th>UNIREFCODE</th>\n",
       "      <th>EST_HHC</th>\n",
       "      <th>NUSP_CAT</th>\n",
       "      <th>Shape__Area</th>\n",
       "      <th>Shape__Length</th>\n",
       "    </tr>\n",
       "  </thead>\n",
       "  <tbody>\n",
       "    <tr>\n",
       "      <th>0</th>\n",
       "      <td>1</td>\n",
       "      <td>Amatikwe</td>\n",
       "      <td></td>\n",
       "      <td>MR93 North</td>\n",
       "      <td>56/108</td>\n",
       "      <td>Amatikwe</td>\n",
       "      <td>-296,847,594,568,261</td>\n",
       "      <td>309,331,993,743,659</td>\n",
       "      <td>Northern</td>\n",
       "      <td>Standpipes</td>\n",
       "      <td>Pit Privies</td>\n",
       "      <td>C&amp;SW contractor</td>\n",
       "      <td>Yes</td>\n",
       "      <td>I0005</td>\n",
       "      <td>3250</td>\n",
       "      <td>B1</td>\n",
       "      <td>2.393433e+06</td>\n",
       "      <td>22801.689200</td>\n",
       "    </tr>\n",
       "    <tr>\n",
       "      <th>1</th>\n",
       "      <td>2</td>\n",
       "      <td>Congo Phase 2</td>\n",
       "      <td>Congo Phase 2</td>\n",
       "      <td>MR93 /MR93 North</td>\n",
       "      <td>55/57</td>\n",
       "      <td>Inanda Congo</td>\n",
       "      <td>-296,930,565,996,813</td>\n",
       "      <td>309,524,428,875,002</td>\n",
       "      <td>Northern</td>\n",
       "      <td>Standpipes</td>\n",
       "      <td>Ablution Facility &amp; Pit Privies</td>\n",
       "      <td>C&amp;SW contractor</td>\n",
       "      <td>Yes</td>\n",
       "      <td>I0037</td>\n",
       "      <td>758</td>\n",
       "      <td>B1</td>\n",
       "      <td>2.894931e+05</td>\n",
       "      <td>4460.071000</td>\n",
       "    </tr>\n",
       "    <tr>\n",
       "      <th>2</th>\n",
       "      <td>3</td>\n",
       "      <td>Africa Inanda</td>\n",
       "      <td>Africa</td>\n",
       "      <td>Curnick Ndlovu Highway</td>\n",
       "      <td>55</td>\n",
       "      <td>Ohlange-Africa / Stop 8</td>\n",
       "      <td>-29,700,492,743,755</td>\n",
       "      <td>309,486,579,023,242</td>\n",
       "      <td>Northern</td>\n",
       "      <td>Ablution Facility Taps &amp; Standpipes</td>\n",
       "      <td>Ablution Facility</td>\n",
       "      <td>C&amp;SW contractor</td>\n",
       "      <td>Yes</td>\n",
       "      <td>I0002</td>\n",
       "      <td>627</td>\n",
       "      <td>B1</td>\n",
       "      <td>2.831338e+05</td>\n",
       "      <td>2289.974147</td>\n",
       "    </tr>\n",
       "    <tr>\n",
       "      <th>3</th>\n",
       "      <td>4</td>\n",
       "      <td>Namibia</td>\n",
       "      <td></td>\n",
       "      <td>Curnick Ndlovu Highway / Matshana Road</td>\n",
       "      <td>108/44</td>\n",
       "      <td>Inanda Namibia</td>\n",
       "      <td>-29,703,771,886,581</td>\n",
       "      <td>309,335,017,254,606</td>\n",
       "      <td>Northern</td>\n",
       "      <td>Ablution Facility Taps &amp; Standpipes</td>\n",
       "      <td>Ablution Facility</td>\n",
       "      <td>C&amp;SW contractor</td>\n",
       "      <td>Yes</td>\n",
       "      <td>I0145</td>\n",
       "      <td>1508</td>\n",
       "      <td>B1</td>\n",
       "      <td>6.782034e+05</td>\n",
       "      <td>3987.698818</td>\n",
       "    </tr>\n",
       "    <tr>\n",
       "      <th>4</th>\n",
       "      <td>5</td>\n",
       "      <td>Mshayazafe</td>\n",
       "      <td></td>\n",
       "      <td>Sidudla Road</td>\n",
       "      <td>55</td>\n",
       "      <td>Mshayazafe / Ohlange - Africa</td>\n",
       "      <td>-297,066,784,039,778</td>\n",
       "      <td>309,469,610,275,001</td>\n",
       "      <td>Northern</td>\n",
       "      <td>Standpipes</td>\n",
       "      <td>Pit Privies</td>\n",
       "      <td>C&amp;SW contractor</td>\n",
       "      <td>Yes</td>\n",
       "      <td>I0140</td>\n",
       "      <td>349</td>\n",
       "      <td>B1</td>\n",
       "      <td>1.393780e+05</td>\n",
       "      <td>1965.577993</td>\n",
       "    </tr>\n",
       "  </tbody>\n",
       "</table>\n",
       "</div>"
      ],
      "text/plain": [
       "   OBJECTID     NAME_OF_SE       ALT_NAME  \\\n",
       "0         1       Amatikwe                  \n",
       "1         2  Congo Phase 2  Congo Phase 2   \n",
       "2         3  Africa Inanda         Africa   \n",
       "3         4        Namibia                  \n",
       "4         5     Mshayazafe                  \n",
       "\n",
       "                               STREETNAME  WARD_S  \\\n",
       "0                              MR93 North  56/108   \n",
       "1                        MR93 /MR93 North   55/57   \n",
       "2                  Curnick Ndlovu Highway      55   \n",
       "3  Curnick Ndlovu Highway / Matshana Road  108/44   \n",
       "4                            Sidudla Road      55   \n",
       "\n",
       "                      PLANNING_U              LATITUDE            LONGITUDE  \\\n",
       "0                       Amatikwe  -296,847,594,568,261  309,331,993,743,659   \n",
       "1                   Inanda Congo  -296,930,565,996,813  309,524,428,875,002   \n",
       "2        Ohlange-Africa / Stop 8   -29,700,492,743,755  309,486,579,023,242   \n",
       "3                 Inanda Namibia   -29,703,771,886,581  309,335,017,254,606   \n",
       "4  Mshayazafe / Ohlange - Africa  -297,066,784,039,778  309,469,610,275,001   \n",
       "\n",
       "     REGION                           WATER_SUPP  \\\n",
       "0  Northern                           Standpipes   \n",
       "1  Northern                           Standpipes   \n",
       "2  Northern  Ablution Facility Taps & Standpipes   \n",
       "3  Northern  Ablution Facility Taps & Standpipes   \n",
       "4  Northern                           Standpipes   \n",
       "\n",
       "                        SANITATION           REFUSE ELECTRIC_2 UNIREFCODE  \\\n",
       "0                      Pit Privies  C&SW contractor        Yes      I0005   \n",
       "1  Ablution Facility & Pit Privies  C&SW contractor        Yes      I0037   \n",
       "2                Ablution Facility  C&SW contractor        Yes      I0002   \n",
       "3                Ablution Facility  C&SW contractor        Yes      I0145   \n",
       "4                      Pit Privies  C&SW contractor        Yes      I0140   \n",
       "\n",
       "   EST_HHC NUSP_CAT   Shape__Area  Shape__Length  \n",
       "0     3250       B1  2.393433e+06   22801.689200  \n",
       "1      758       B1  2.894931e+05    4460.071000  \n",
       "2      627       B1  2.831338e+05    2289.974147  \n",
       "3     1508       B1  6.782034e+05    3987.698818  \n",
       "4      349       B1  1.393780e+05    1965.577993  "
      ]
     },
     "execution_count": 9,
     "metadata": {},
     "output_type": "execute_result"
    }
   ],
   "source": [
    "df.head()"
   ]
  },
  {
   "cell_type": "markdown",
   "id": "37dad591-826a-4338-9470-dde502210b4e",
   "metadata": {},
   "source": [
    "Data slicing and Indexing"
   ]
  },
  {
   "cell_type": "code",
   "execution_count": 10,
   "id": "b454b87a-8466-45fa-9eb4-aa13eac2ddbd",
   "metadata": {},
   "outputs": [
    {
     "data": {
      "text/html": [
       "<div>\n",
       "<style scoped>\n",
       "    .dataframe tbody tr th:only-of-type {\n",
       "        vertical-align: middle;\n",
       "    }\n",
       "\n",
       "    .dataframe tbody tr th {\n",
       "        vertical-align: top;\n",
       "    }\n",
       "\n",
       "    .dataframe thead th {\n",
       "        text-align: right;\n",
       "    }\n",
       "</style>\n",
       "<table border=\"1\" class=\"dataframe\">\n",
       "  <thead>\n",
       "    <tr style=\"text-align: right;\">\n",
       "      <th></th>\n",
       "      <th>OBJECTID</th>\n",
       "      <th>NAME_OF_SE</th>\n",
       "      <th>ALT_NAME</th>\n",
       "      <th>STREETNAME</th>\n",
       "      <th>WARD_S</th>\n",
       "      <th>PLANNING_U</th>\n",
       "      <th>LATITUDE</th>\n",
       "      <th>LONGITUDE</th>\n",
       "      <th>REGION</th>\n",
       "      <th>WATER_SUPP</th>\n",
       "      <th>SANITATION</th>\n",
       "      <th>REFUSE</th>\n",
       "      <th>ELECTRIC_2</th>\n",
       "      <th>UNIREFCODE</th>\n",
       "      <th>EST_HHC</th>\n",
       "      <th>NUSP_CAT</th>\n",
       "      <th>Shape__Area</th>\n",
       "      <th>Shape__Length</th>\n",
       "    </tr>\n",
       "  </thead>\n",
       "  <tbody>\n",
       "    <tr>\n",
       "      <th>1</th>\n",
       "      <td>2</td>\n",
       "      <td>Congo Phase 2</td>\n",
       "      <td>Congo Phase 2</td>\n",
       "      <td>MR93 /MR93 North</td>\n",
       "      <td>55/57</td>\n",
       "      <td>Inanda Congo</td>\n",
       "      <td>-296,930,565,996,813</td>\n",
       "      <td>309,524,428,875,002</td>\n",
       "      <td>Northern</td>\n",
       "      <td>Standpipes</td>\n",
       "      <td>Ablution Facility &amp; Pit Privies</td>\n",
       "      <td>C&amp;SW contractor</td>\n",
       "      <td>Yes</td>\n",
       "      <td>I0037</td>\n",
       "      <td>758</td>\n",
       "      <td>B1</td>\n",
       "      <td>289493.0510</td>\n",
       "      <td>4460.071000</td>\n",
       "    </tr>\n",
       "    <tr>\n",
       "      <th>2</th>\n",
       "      <td>3</td>\n",
       "      <td>Africa Inanda</td>\n",
       "      <td>Africa</td>\n",
       "      <td>Curnick Ndlovu Highway</td>\n",
       "      <td>55</td>\n",
       "      <td>Ohlange-Africa / Stop 8</td>\n",
       "      <td>-29,700,492,743,755</td>\n",
       "      <td>309,486,579,023,242</td>\n",
       "      <td>Northern</td>\n",
       "      <td>Ablution Facility Taps &amp; Standpipes</td>\n",
       "      <td>Ablution Facility</td>\n",
       "      <td>C&amp;SW contractor</td>\n",
       "      <td>Yes</td>\n",
       "      <td>I0002</td>\n",
       "      <td>627</td>\n",
       "      <td>B1</td>\n",
       "      <td>283133.8475</td>\n",
       "      <td>2289.974147</td>\n",
       "    </tr>\n",
       "    <tr>\n",
       "      <th>3</th>\n",
       "      <td>4</td>\n",
       "      <td>Namibia</td>\n",
       "      <td></td>\n",
       "      <td>Curnick Ndlovu Highway / Matshana Road</td>\n",
       "      <td>108/44</td>\n",
       "      <td>Inanda Namibia</td>\n",
       "      <td>-29,703,771,886,581</td>\n",
       "      <td>309,335,017,254,606</td>\n",
       "      <td>Northern</td>\n",
       "      <td>Ablution Facility Taps &amp; Standpipes</td>\n",
       "      <td>Ablution Facility</td>\n",
       "      <td>C&amp;SW contractor</td>\n",
       "      <td>Yes</td>\n",
       "      <td>I0145</td>\n",
       "      <td>1508</td>\n",
       "      <td>B1</td>\n",
       "      <td>678203.4265</td>\n",
       "      <td>3987.698818</td>\n",
       "    </tr>\n",
       "    <tr>\n",
       "      <th>4</th>\n",
       "      <td>5</td>\n",
       "      <td>Mshayazafe</td>\n",
       "      <td></td>\n",
       "      <td>Sidudla Road</td>\n",
       "      <td>55</td>\n",
       "      <td>Mshayazafe / Ohlange - Africa</td>\n",
       "      <td>-297,066,784,039,778</td>\n",
       "      <td>309,469,610,275,001</td>\n",
       "      <td>Northern</td>\n",
       "      <td>Standpipes</td>\n",
       "      <td>Pit Privies</td>\n",
       "      <td>C&amp;SW contractor</td>\n",
       "      <td>Yes</td>\n",
       "      <td>I0140</td>\n",
       "      <td>349</td>\n",
       "      <td>B1</td>\n",
       "      <td>139377.9741</td>\n",
       "      <td>1965.577993</td>\n",
       "    </tr>\n",
       "    <tr>\n",
       "      <th>5</th>\n",
       "      <td>6</td>\n",
       "      <td>Ntuzuma - E1</td>\n",
       "      <td></td>\n",
       "      <td>Ithendele Drive</td>\n",
       "      <td>44/43</td>\n",
       "      <td>Emachobeni / Ntuzuma - E / Inanda Glebe</td>\n",
       "      <td>-297,226,600,304,074</td>\n",
       "      <td>309,207,622,047,174</td>\n",
       "      <td>Northern</td>\n",
       "      <td>Standpipes</td>\n",
       "      <td>Pit Privies</td>\n",
       "      <td>C&amp;SW contractor</td>\n",
       "      <td>Yes</td>\n",
       "      <td>I0151</td>\n",
       "      <td>261</td>\n",
       "      <td>B1</td>\n",
       "      <td>183113.9503</td>\n",
       "      <td>2348.368384</td>\n",
       "    </tr>\n",
       "  </tbody>\n",
       "</table>\n",
       "</div>"
      ],
      "text/plain": [
       "   OBJECTID     NAME_OF_SE       ALT_NAME  \\\n",
       "1         2  Congo Phase 2  Congo Phase 2   \n",
       "2         3  Africa Inanda         Africa   \n",
       "3         4        Namibia                  \n",
       "4         5     Mshayazafe                  \n",
       "5         6   Ntuzuma - E1                  \n",
       "\n",
       "                               STREETNAME  WARD_S  \\\n",
       "1                        MR93 /MR93 North   55/57   \n",
       "2                  Curnick Ndlovu Highway      55   \n",
       "3  Curnick Ndlovu Highway / Matshana Road  108/44   \n",
       "4                            Sidudla Road      55   \n",
       "5                         Ithendele Drive   44/43   \n",
       "\n",
       "                                PLANNING_U              LATITUDE  \\\n",
       "1                             Inanda Congo  -296,930,565,996,813   \n",
       "2                  Ohlange-Africa / Stop 8   -29,700,492,743,755   \n",
       "3                           Inanda Namibia   -29,703,771,886,581   \n",
       "4            Mshayazafe / Ohlange - Africa  -297,066,784,039,778   \n",
       "5  Emachobeni / Ntuzuma - E / Inanda Glebe  -297,226,600,304,074   \n",
       "\n",
       "             LONGITUDE    REGION                           WATER_SUPP  \\\n",
       "1  309,524,428,875,002  Northern                           Standpipes   \n",
       "2  309,486,579,023,242  Northern  Ablution Facility Taps & Standpipes   \n",
       "3  309,335,017,254,606  Northern  Ablution Facility Taps & Standpipes   \n",
       "4  309,469,610,275,001  Northern                           Standpipes   \n",
       "5  309,207,622,047,174  Northern                           Standpipes   \n",
       "\n",
       "                        SANITATION           REFUSE ELECTRIC_2 UNIREFCODE  \\\n",
       "1  Ablution Facility & Pit Privies  C&SW contractor        Yes      I0037   \n",
       "2                Ablution Facility  C&SW contractor        Yes      I0002   \n",
       "3                Ablution Facility  C&SW contractor        Yes      I0145   \n",
       "4                      Pit Privies  C&SW contractor        Yes      I0140   \n",
       "5                      Pit Privies  C&SW contractor        Yes      I0151   \n",
       "\n",
       "   EST_HHC NUSP_CAT  Shape__Area  Shape__Length  \n",
       "1      758       B1  289493.0510    4460.071000  \n",
       "2      627       B1  283133.8475    2289.974147  \n",
       "3     1508       B1  678203.4265    3987.698818  \n",
       "4      349       B1  139377.9741    1965.577993  \n",
       "5      261       B1  183113.9503    2348.368384  "
      ]
     },
     "execution_count": 10,
     "metadata": {},
     "output_type": "execute_result"
    }
   ],
   "source": [
    "df.loc[1:5, :]"
   ]
  },
  {
   "cell_type": "markdown",
   "id": "9e1379e9-18c5-46f0-bf2d-0156c030db66",
   "metadata": {},
   "source": [
    "Identify Missing Data"
   ]
  },
  {
   "cell_type": "code",
   "execution_count": 12,
   "id": "8246898e-fc65-452e-aee9-cee31d29d77b",
   "metadata": {},
   "outputs": [
    {
     "name": "stdout",
     "output_type": "stream",
     "text": [
      "OBJECTID         0\n",
      "NAME_OF_SE       0\n",
      "ALT_NAME         4\n",
      "STREETNAME       0\n",
      "WARD_S           0\n",
      "PLANNING_U       0\n",
      "LATITUDE         0\n",
      "LONGITUDE        0\n",
      "REGION           0\n",
      "WATER_SUPP       0\n",
      "SANITATION       0\n",
      "REFUSE           0\n",
      "ELECTRIC_2       0\n",
      "UNIREFCODE       0\n",
      "EST_HHC          0\n",
      "NUSP_CAT         0\n",
      "Shape__Area      0\n",
      "Shape__Length    0\n",
      "dtype: int64\n"
     ]
    }
   ],
   "source": [
    "missing_values = df.isnull().sum()\n",
    "print(missing_values)"
   ]
  },
  {
   "cell_type": "markdown",
   "id": "a16f2c7f-e291-42f7-9c02-486d16330b62",
   "metadata": {},
   "source": [
    "Nomalizing or Standardizing Data"
   ]
  },
  {
   "cell_type": "code",
   "execution_count": 13,
   "id": "efb5b2d8-e225-4c2b-8944-6fdde1ff19c6",
   "metadata": {},
   "outputs": [
    {
     "name": "stdout",
     "output_type": "stream",
     "text": [
      "0\n"
     ]
    }
   ],
   "source": [
    "scaler = preprocessing.MinMaxScaler()\n",
    "d = scaler.fit_transform()"
   ]
  },
  {
   "cell_type": "markdown",
   "id": "dd28dabe-4556-4fcd-bd3a-723d269efe14",
   "metadata": {},
   "source": [
    "Charts And Graphs"
   ]
  },
  {
   "cell_type": "code",
   "execution_count": 51,
   "id": "6ab17e1b-6011-41c2-bdd2-e2473f8dae87",
   "metadata": {},
   "outputs": [
    {
     "data": {
      "text/plain": [
       "Text(0, 0.5, 'Number of households')"
      ]
     },
     "execution_count": 51,
     "metadata": {},
     "output_type": "execute_result"
    },
    {
     "data": {
      "image/png": "[encoded data removed]",
      "text/plain": [
       "<Figure size 640x480 with 1 Axes>"
      ]
     },
     "metadata": {},
     "output_type": "display_data"
    }
   ],
   "source": [
    "plt = df['EST_HHC'].head(10).plot(kind= 'bar', title = 'Households increase', color='blue', alpha=0.7)\n",
    "plt.set_xlabel('expantion over time')\n",
    "plt.set_ylabel('Number of households')\n"
   ]
  },
  {
   "cell_type": "code",
   "execution_count": 49,
   "id": "ff3080ff-547e-4ad9-9d11-e7635653f164",
   "metadata": {},
   "outputs": [
    {
     "data": {
      "text/plain": [
       "Text(0, 0.5, 'expantion over time')"
      ]
     },
     "execution_count": 49,
     "metadata": {},
     "output_type": "execute_result"
    },
    {
     "data": {
      "image/png": "[encoded data removed]",
      "text/plain": [
       "<Figure size 640x480 with 1 Axes>"
      ]
     },
     "metadata": {},
     "output_type": "display_data"
    }
   ],
   "source": [
    "plt = df['EST_HHC'].head(10).plot(kind= 'hist', title = 'Households increase', color='blue', alpha=0.7)\n",
    "plt.set_xlabel('Number of households')\n",
    "plt.set_ylabel('expantion over time')"
   ]
  },
  {
   "cell_type": "code",
   "execution_count": 50,
   "id": "5f5e3c97-aaaf-4e9a-b556-faec499612ce",
   "metadata": {},
   "outputs": [
    {
     "data": {
      "text/plain": [
       "Text(0, 0.5, 'expantion over time')"
      ]
     },
     "execution_count": 50,
     "metadata": {},
     "output_type": "execute_result"
    },
    {
     "data": {
      "image/png": "[encoded data removed]",
      "text/plain": [
       "<Figure size 640x480 with 1 Axes>"
      ]
     },
     "metadata": {},
     "output_type": "display_data"
    }
   ],
   "source": [
    "plt = df['EST_HHC'].head(10).plot(kind= 'line', title = 'Households increase', color='blue', alpha=0.7)\n",
    "plt.set_xlabel('expantion over time')\n",
    "plt.set_ylabel('Number of households')"
   ]
  },
  {
   "cell_type": "markdown",
   "id": "ca91a078-3162-4bb4-b1d2-d64f7d9db247",
   "metadata": {},
   "source": [
    "Sorting Data"
   ]
  },
  {
   "cell_type": "code",
   "execution_count": 21,
   "id": "8c0bbe7d-a1c3-40d5-a9b8-0ff39e600d39",
   "metadata": {},
   "outputs": [],
   "source": [
    "def b_sort(Shape__Length):\n",
    "    for i in range(len(Shape__Length)-1):\n",
    "        for j in range(len(Shape__Length)-i-1):\n",
    "            if (Shape__Length[j]>Shape__Length[j+1]):\n",
    "                temp = Shape__Length[j]\n",
    "                Shape__Length[j] = Shape__Length[j+1]\n",
    "                Shape__Length[j+1] = temp"
   ]
  },
  {
   "cell_type": "code",
   "execution_count": 25,
   "id": "4ae1b2dd-0010-4738-b899-b9d533f1fb91",
   "metadata": {},
   "outputs": [],
   "source": [
    "def contains_word(SANITATION, TBC):\n",
    "    for item in SANITATION:\n",
    "        if item == TBC:\n",
    "            return True\n",
    "    return False\n"
   ]
  },
  {
   "cell_type": "code",
   "execution_count": null,
   "id": "e38a46b9-28d0-44f1-b67a-ccba851d58c3",
   "metadata": {},
   "outputs": [],
   "source": []
  }
 ],
 "metadata": {
  "kernelspec": {
   "display_name": "Python 3 (ipykernel)",
   "language": "python",
   "name": "python3"
  },
  "language_info": {
   "codemirror_mode": {
    "name": "ipython",
    "version": 3
   },
   "file_extension": ".py",
   "mimetype": "text/x-python",
   "name": "python",
   "nbconvert_exporter": "python",
   "pygments_lexer": "ipython3",
   "version": "3.11.7"
  }
 },
 "nbformat": 4,
 "nbformat_minor": 5
}
